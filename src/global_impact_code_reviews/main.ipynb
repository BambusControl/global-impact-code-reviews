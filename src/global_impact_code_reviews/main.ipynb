{
 "cells": [
  {
   "cell_type": "code",
   "execution_count": 1,
   "id": "initial_id",
   "metadata": {
    "collapsed": true,
    "ExecuteTime": {
     "end_time": "2024-03-04T11:48:16.190272800Z",
     "start_time": "2024-03-04T11:47:35.737556400Z"
    }
   },
   "outputs": [
    {
     "data": {
      "text/plain": "              id  project_id           ownername               reponame  \\\n0              1    13708387           stylelint              stylelint   \n1              2   100297899    Joaogarciadelima            checklistos   \n2              3    93139005          binary-com            SmartCharts   \n3              4    15059440         letsencrypt                boulder   \n4              5    29684214               PyCQA                astroid   \n...          ...         ...                 ...                    ...   \n3347932  3347933    30544060  Kronos-Integration  kronos-service-consul   \n3347933  3347934        1142           saltstack                   salt   \n3347934  3347935    31499094              mjmlio                   mjml   \n3347935  3347936       55317             zotonic                zotonic   \n3347936  3347937     5660659           ikasanEIP                 ikasan   \n\n         merged_or_not  lifetime_minutes  mergetime_minutes  num_commits  \\\n0                    1               237              237.0            1   \n1                    0              1410                NaN            1   \n2                    1                 4                4.0            1   \n3                    1                52               52.0            1   \n4                    1              2414             2414.0            1   \n...                ...               ...                ...          ...   \n3347932              1                 9                9.0            1   \n3347933              0              1165                NaN            1   \n3347934              1              8834             8834.0            2   \n3347935              0               703                NaN            7   \n3347936              1                44               44.0           29   \n\n         src_churn  test_churn  ...  other_comment  num_comments_con  \\\n0                0           0  ...              0                 0   \n1                0           0  ...              0                 2   \n2                0           0  ...              0                 0   \n3                9         104  ...              0                 0   \n4               33          27  ...              0                 0   \n...            ...         ...  ...            ...               ...   \n3347932          0           0  ...              0                 0   \n3347933         10           0  ...              0                 1   \n3347934          6           0  ...              0                 8   \n3347935         15           0  ...              0                 0   \n3347936      26881        2207  ...              0                 2   \n\n         num_code_comments  num_code_comments_con  integrator_availability  \\\n0                        0                      0                     30.0   \n1                        0                      0                    597.0   \n2                        0                      0                      2.0   \n3                        0                      0                      1.0   \n4                        0                      0                      2.0   \n...                    ...                    ...                      ...   \n3347932                  0                      0                   2537.0   \n3347933                  0                      0                     42.0   \n3347934                  0                      0                    597.0   \n3347935                  0                      0                     10.0   \n3347936                  1                      1                    332.0   \n\n         friday_effect  contrib_rate_author  reopen_or_not  \\\n0                    1             0.007948              0   \n1                    0             0.830769              0   \n2                    0             0.314368              0   \n3                    0             0.117332              0   \n4                    0             0.010753              0   \n...                ...                  ...            ...   \n3347932              0             0.696970              0   \n3347933              0             0.056849              0   \n3347934              0             0.002041              0   \n3347935              0             0.000732              0   \n3347936              0             0.208889              0   \n\n         first_close_minutes  reopen_num  \n0                        237           0  \n1                       1410           0  \n2                          4           0  \n3                         52           0  \n4                       2414           0  \n...                      ...         ...  \n3347932                    9           0  \n3347933                 1165           0  \n3347934                 8834           0  \n3347935                  703           0  \n3347936                   44           0  \n\n[3347937 rows x 118 columns]",
      "text/html": "<div>\n<style scoped>\n    .dataframe tbody tr th:only-of-type {\n        vertical-align: middle;\n    }\n\n    .dataframe tbody tr th {\n        vertical-align: top;\n    }\n\n    .dataframe thead th {\n        text-align: right;\n    }\n</style>\n<table border=\"1\" class=\"dataframe\">\n  <thead>\n    <tr style=\"text-align: right;\">\n      <th></th>\n      <th>id</th>\n      <th>project_id</th>\n      <th>ownername</th>\n      <th>reponame</th>\n      <th>merged_or_not</th>\n      <th>lifetime_minutes</th>\n      <th>mergetime_minutes</th>\n      <th>num_commits</th>\n      <th>src_churn</th>\n      <th>test_churn</th>\n      <th>...</th>\n      <th>other_comment</th>\n      <th>num_comments_con</th>\n      <th>num_code_comments</th>\n      <th>num_code_comments_con</th>\n      <th>integrator_availability</th>\n      <th>friday_effect</th>\n      <th>contrib_rate_author</th>\n      <th>reopen_or_not</th>\n      <th>first_close_minutes</th>\n      <th>reopen_num</th>\n    </tr>\n  </thead>\n  <tbody>\n    <tr>\n      <th>0</th>\n      <td>1</td>\n      <td>13708387</td>\n      <td>stylelint</td>\n      <td>stylelint</td>\n      <td>1</td>\n      <td>237</td>\n      <td>237.0</td>\n      <td>1</td>\n      <td>0</td>\n      <td>0</td>\n      <td>...</td>\n      <td>0</td>\n      <td>0</td>\n      <td>0</td>\n      <td>0</td>\n      <td>30.0</td>\n      <td>1</td>\n      <td>0.007948</td>\n      <td>0</td>\n      <td>237</td>\n      <td>0</td>\n    </tr>\n    <tr>\n      <th>1</th>\n      <td>2</td>\n      <td>100297899</td>\n      <td>Joaogarciadelima</td>\n      <td>checklistos</td>\n      <td>0</td>\n      <td>1410</td>\n      <td>NaN</td>\n      <td>1</td>\n      <td>0</td>\n      <td>0</td>\n      <td>...</td>\n      <td>0</td>\n      <td>2</td>\n      <td>0</td>\n      <td>0</td>\n      <td>597.0</td>\n      <td>0</td>\n      <td>0.830769</td>\n      <td>0</td>\n      <td>1410</td>\n      <td>0</td>\n    </tr>\n    <tr>\n      <th>2</th>\n      <td>3</td>\n      <td>93139005</td>\n      <td>binary-com</td>\n      <td>SmartCharts</td>\n      <td>1</td>\n      <td>4</td>\n      <td>4.0</td>\n      <td>1</td>\n      <td>0</td>\n      <td>0</td>\n      <td>...</td>\n      <td>0</td>\n      <td>0</td>\n      <td>0</td>\n      <td>0</td>\n      <td>2.0</td>\n      <td>0</td>\n      <td>0.314368</td>\n      <td>0</td>\n      <td>4</td>\n      <td>0</td>\n    </tr>\n    <tr>\n      <th>3</th>\n      <td>4</td>\n      <td>15059440</td>\n      <td>letsencrypt</td>\n      <td>boulder</td>\n      <td>1</td>\n      <td>52</td>\n      <td>52.0</td>\n      <td>1</td>\n      <td>9</td>\n      <td>104</td>\n      <td>...</td>\n      <td>0</td>\n      <td>0</td>\n      <td>0</td>\n      <td>0</td>\n      <td>1.0</td>\n      <td>0</td>\n      <td>0.117332</td>\n      <td>0</td>\n      <td>52</td>\n      <td>0</td>\n    </tr>\n    <tr>\n      <th>4</th>\n      <td>5</td>\n      <td>29684214</td>\n      <td>PyCQA</td>\n      <td>astroid</td>\n      <td>1</td>\n      <td>2414</td>\n      <td>2414.0</td>\n      <td>1</td>\n      <td>33</td>\n      <td>27</td>\n      <td>...</td>\n      <td>0</td>\n      <td>0</td>\n      <td>0</td>\n      <td>0</td>\n      <td>2.0</td>\n      <td>0</td>\n      <td>0.010753</td>\n      <td>0</td>\n      <td>2414</td>\n      <td>0</td>\n    </tr>\n    <tr>\n      <th>...</th>\n      <td>...</td>\n      <td>...</td>\n      <td>...</td>\n      <td>...</td>\n      <td>...</td>\n      <td>...</td>\n      <td>...</td>\n      <td>...</td>\n      <td>...</td>\n      <td>...</td>\n      <td>...</td>\n      <td>...</td>\n      <td>...</td>\n      <td>...</td>\n      <td>...</td>\n      <td>...</td>\n      <td>...</td>\n      <td>...</td>\n      <td>...</td>\n      <td>...</td>\n      <td>...</td>\n    </tr>\n    <tr>\n      <th>3347932</th>\n      <td>3347933</td>\n      <td>30544060</td>\n      <td>Kronos-Integration</td>\n      <td>kronos-service-consul</td>\n      <td>1</td>\n      <td>9</td>\n      <td>9.0</td>\n      <td>1</td>\n      <td>0</td>\n      <td>0</td>\n      <td>...</td>\n      <td>0</td>\n      <td>0</td>\n      <td>0</td>\n      <td>0</td>\n      <td>2537.0</td>\n      <td>0</td>\n      <td>0.696970</td>\n      <td>0</td>\n      <td>9</td>\n      <td>0</td>\n    </tr>\n    <tr>\n      <th>3347933</th>\n      <td>3347934</td>\n      <td>1142</td>\n      <td>saltstack</td>\n      <td>salt</td>\n      <td>0</td>\n      <td>1165</td>\n      <td>NaN</td>\n      <td>1</td>\n      <td>10</td>\n      <td>0</td>\n      <td>...</td>\n      <td>0</td>\n      <td>1</td>\n      <td>0</td>\n      <td>0</td>\n      <td>42.0</td>\n      <td>0</td>\n      <td>0.056849</td>\n      <td>0</td>\n      <td>1165</td>\n      <td>0</td>\n    </tr>\n    <tr>\n      <th>3347934</th>\n      <td>3347935</td>\n      <td>31499094</td>\n      <td>mjmlio</td>\n      <td>mjml</td>\n      <td>1</td>\n      <td>8834</td>\n      <td>8834.0</td>\n      <td>2</td>\n      <td>6</td>\n      <td>0</td>\n      <td>...</td>\n      <td>0</td>\n      <td>8</td>\n      <td>0</td>\n      <td>0</td>\n      <td>597.0</td>\n      <td>0</td>\n      <td>0.002041</td>\n      <td>0</td>\n      <td>8834</td>\n      <td>0</td>\n    </tr>\n    <tr>\n      <th>3347935</th>\n      <td>3347936</td>\n      <td>55317</td>\n      <td>zotonic</td>\n      <td>zotonic</td>\n      <td>0</td>\n      <td>703</td>\n      <td>NaN</td>\n      <td>7</td>\n      <td>15</td>\n      <td>0</td>\n      <td>...</td>\n      <td>0</td>\n      <td>0</td>\n      <td>0</td>\n      <td>0</td>\n      <td>10.0</td>\n      <td>0</td>\n      <td>0.000732</td>\n      <td>0</td>\n      <td>703</td>\n      <td>0</td>\n    </tr>\n    <tr>\n      <th>3347936</th>\n      <td>3347937</td>\n      <td>5660659</td>\n      <td>ikasanEIP</td>\n      <td>ikasan</td>\n      <td>1</td>\n      <td>44</td>\n      <td>44.0</td>\n      <td>29</td>\n      <td>26881</td>\n      <td>2207</td>\n      <td>...</td>\n      <td>0</td>\n      <td>2</td>\n      <td>1</td>\n      <td>1</td>\n      <td>332.0</td>\n      <td>0</td>\n      <td>0.208889</td>\n      <td>0</td>\n      <td>44</td>\n      <td>0</td>\n    </tr>\n  </tbody>\n</table>\n<p>3347937 rows × 118 columns</p>\n</div>"
     },
     "execution_count": 1,
     "metadata": {},
     "output_type": "execute_result"
    }
   ],
   "source": [
    "import pandas\n",
    "\n",
    "ds = pandas.read_csv('../../.ignore/new_pullreq.csv')\n",
    "ds"
   ]
  },
  {
   "cell_type": "code",
   "outputs": [],
   "source": [],
   "metadata": {
    "collapsed": false
   },
   "id": "7eee79be50a71453"
  }
 ],
 "metadata": {
  "kernelspec": {
   "display_name": "Python 3",
   "language": "python",
   "name": "python3"
  },
  "language_info": {
   "codemirror_mode": {
    "name": "ipython",
    "version": 2
   },
   "file_extension": ".py",
   "mimetype": "text/x-python",
   "name": "python",
   "nbconvert_exporter": "python",
   "pygments_lexer": "ipython2",
   "version": "2.7.6"
  }
 },
 "nbformat": 4,
 "nbformat_minor": 5
}
